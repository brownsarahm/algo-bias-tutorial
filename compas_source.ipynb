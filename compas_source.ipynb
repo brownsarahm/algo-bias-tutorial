{
 "cells": [
  {
   "cell_type": "markdown",
   "metadata": {},
   "source": [
    "# Fairness in Recidvisim Risk Scores\n",
    "\n",
    "adapted from [BPDM 2017 Tutorial by Caitlin Kuhlman et al](https://github.com/caitlinkuhlman/bpdmtutorial)\n",
    "\n",
    "__Tools:__ Analysis will be done in python, using a number of open source packages commonly used for data science tasks:\n",
    "- __Numpy__ scientific computing. http://www.numpy.org/\n",
    "- __Pandas__ data analysis and manipulation http://pandas.pydata.org/\n",
    "- __Scikit-learn__ machine learning http://scikit-learn.org/stable/\n",
    "- __Matplotlib__ plotting https://matplotlib.org/\n",
    "\n",
    "__Material:__ *Disclaimer*: The analysis presented here is directly inspired by the following references:\n",
    "\n",
    "[1] ProPublica, *“Machine Bias,”* https://www.propublica.org/article/machine-bias-risk-assessments-in-criminal-sentencing, May 2016.\n",
    "\n",
    "[2] A. Chouldechova. *\"Fair prediction with disparate impact: A study of bias in recidivism prediction instruments.\"* arXiv preprint arXiv:1703.00056 (2017).\n",
    "\n",
    "[3] F. P. Calmon, D. Wei, K. Natesan Ramamurthy, and K. R. Varshney, *“Optimized Data Pre- Processing for Discrimination Prevention,”* arXiv preprint arXiv:1704.03354 (2017)"
   ]
  },
  {
   "cell_type": "code",
   "execution_count": 44,
   "metadata": {},
   "outputs": [
    {
     "name": "stdout",
     "output_type": "stream",
     "text": [
      "Overwriting code/tools.py\n"
     ]
    }
   ],
   "source": [
    "%%writefile code/tools.py\n",
    "import numpy as np\n",
    "import pandas as pd\n",
    "import scipy\n",
    "\n",
    "import matplotlib.pyplot as plt\n",
    "import seaborn as sns\n",
    "import itertools\n",
    "from sklearn.metrics import roc_curve\n",
    "%matplotlib inline\n",
    "sns.set(font_scale=1.5)"
   ]
  },
  {
   "cell_type": "code",
   "execution_count": 45,
   "metadata": {},
   "outputs": [
    {
     "name": "stdout",
     "output_type": "stream",
     "text": [
      "Writing code/loadcompas\n"
     ]
    }
   ],
   "source": [
    "%%writefile code/loadcompas\n",
    "df = pd.read_csv('data/compas-scores-two-years-clean.csv')"
   ]
  },
  {
   "cell_type": "markdown",
   "metadata": {},
   "source": [
    "Here is an explanation of the data:\n",
    "\n",
    "* `age`: defendant's age\n",
    "* `c_charge_degree`: degree charged (Misdemeanor of Felony)\n",
    "* `race`: defendant's race\n",
    "* `age_cat`: defendant's age quantized in \"less than 25\", \"25-45\", or \"over 45\"\n",
    "* `score_text`: COMPAS score: 'low'(1 to 5), 'medium' (5 to 7), and 'high' (8 to 10).\n",
    "* `sex`: defendant's gender\n",
    "* `priors_count`: number of prior charges\n",
    "* `days_b_screening_arrest`: number of days between charge date and arrest where defendant was screened for compas score\n",
    "* `decile_score`: COMPAS score from 1 to 10\n",
    "* `is_recid`: if the defendant recidivized\n",
    "* `two_year_recid`: if the defendant within two years\n",
    "* `c_jail_in`: date defendant was imprisoned\n",
    "* `c_jail_out`: date defendant was released from jail\n",
    "* `length_of_stay`: length of jail stay\n",
    "\n",
    "Next we look at the first few rows of the dataset"
   ]
  },
  {
   "cell_type": "code",
   "execution_count": 46,
   "metadata": {},
   "outputs": [
    {
     "data": {
      "text/html": [
       "<div>\n",
       "<style scoped>\n",
       "    .dataframe tbody tr th:only-of-type {\n",
       "        vertical-align: middle;\n",
       "    }\n",
       "\n",
       "    .dataframe tbody tr th {\n",
       "        vertical-align: top;\n",
       "    }\n",
       "\n",
       "    .dataframe thead th {\n",
       "        text-align: right;\n",
       "    }\n",
       "</style>\n",
       "<table border=\"1\" class=\"dataframe\">\n",
       "  <thead>\n",
       "    <tr style=\"text-align: right;\">\n",
       "      <th></th>\n",
       "      <th>id</th>\n",
       "      <th>age</th>\n",
       "      <th>c_charge_degree</th>\n",
       "      <th>race</th>\n",
       "      <th>age_cat</th>\n",
       "      <th>score_text</th>\n",
       "      <th>sex</th>\n",
       "      <th>priors_count</th>\n",
       "      <th>days_b_screening_arrest</th>\n",
       "      <th>decile_score</th>\n",
       "      <th>is_recid</th>\n",
       "      <th>two_year_recid</th>\n",
       "      <th>c_jail_in</th>\n",
       "      <th>c_jail_out</th>\n",
       "      <th>length_of_stay</th>\n",
       "      <th>score_text_quant</th>\n",
       "      <th>norm_score</th>\n",
       "    </tr>\n",
       "  </thead>\n",
       "  <tbody>\n",
       "    <tr>\n",
       "      <th>1</th>\n",
       "      <td>3</td>\n",
       "      <td>34</td>\n",
       "      <td>F</td>\n",
       "      <td>African-American</td>\n",
       "      <td>25 - 45</td>\n",
       "      <td>Low</td>\n",
       "      <td>Male</td>\n",
       "      <td>0</td>\n",
       "      <td>-1.0</td>\n",
       "      <td>3</td>\n",
       "      <td>1</td>\n",
       "      <td>1</td>\n",
       "      <td>2013-01-26 03:45:27</td>\n",
       "      <td>2013-02-05 05:36:53</td>\n",
       "      <td>10</td>\n",
       "      <td>0</td>\n",
       "      <td>0.222222</td>\n",
       "    </tr>\n",
       "    <tr>\n",
       "      <th>2</th>\n",
       "      <td>4</td>\n",
       "      <td>24</td>\n",
       "      <td>F</td>\n",
       "      <td>African-American</td>\n",
       "      <td>Less than 25</td>\n",
       "      <td>Low</td>\n",
       "      <td>Male</td>\n",
       "      <td>4</td>\n",
       "      <td>-1.0</td>\n",
       "      <td>4</td>\n",
       "      <td>1</td>\n",
       "      <td>1</td>\n",
       "      <td>2013-04-13 04:58:34</td>\n",
       "      <td>2013-04-14 07:02:04</td>\n",
       "      <td>1</td>\n",
       "      <td>0</td>\n",
       "      <td>0.333333</td>\n",
       "    </tr>\n",
       "    <tr>\n",
       "      <th>4</th>\n",
       "      <td>8</td>\n",
       "      <td>41</td>\n",
       "      <td>F</td>\n",
       "      <td>Caucasian</td>\n",
       "      <td>25 - 45</td>\n",
       "      <td>Medium</td>\n",
       "      <td>Male</td>\n",
       "      <td>14</td>\n",
       "      <td>-1.0</td>\n",
       "      <td>6</td>\n",
       "      <td>1</td>\n",
       "      <td>1</td>\n",
       "      <td>2014-02-18 05:08:24</td>\n",
       "      <td>2014-02-24 12:18:30</td>\n",
       "      <td>6</td>\n",
       "      <td>1</td>\n",
       "      <td>0.555556</td>\n",
       "    </tr>\n",
       "    <tr>\n",
       "      <th>6</th>\n",
       "      <td>10</td>\n",
       "      <td>39</td>\n",
       "      <td>M</td>\n",
       "      <td>Caucasian</td>\n",
       "      <td>25 - 45</td>\n",
       "      <td>Low</td>\n",
       "      <td>Female</td>\n",
       "      <td>0</td>\n",
       "      <td>-1.0</td>\n",
       "      <td>1</td>\n",
       "      <td>0</td>\n",
       "      <td>0</td>\n",
       "      <td>2014-03-15 05:35:34</td>\n",
       "      <td>2014-03-18 04:28:46</td>\n",
       "      <td>2</td>\n",
       "      <td>0</td>\n",
       "      <td>0.000000</td>\n",
       "    </tr>\n",
       "    <tr>\n",
       "      <th>7</th>\n",
       "      <td>14</td>\n",
       "      <td>27</td>\n",
       "      <td>F</td>\n",
       "      <td>Caucasian</td>\n",
       "      <td>25 - 45</td>\n",
       "      <td>Low</td>\n",
       "      <td>Male</td>\n",
       "      <td>0</td>\n",
       "      <td>-1.0</td>\n",
       "      <td>4</td>\n",
       "      <td>0</td>\n",
       "      <td>0</td>\n",
       "      <td>2013-11-25 06:31:06</td>\n",
       "      <td>2013-11-26 08:26:57</td>\n",
       "      <td>1</td>\n",
       "      <td>0</td>\n",
       "      <td>0.333333</td>\n",
       "    </tr>\n",
       "  </tbody>\n",
       "</table>\n",
       "</div>"
      ],
      "text/plain": [
       "   id  age c_charge_degree              race       age_cat score_text     sex  \\\n",
       "1   3   34               F  African-American       25 - 45        Low    Male   \n",
       "2   4   24               F  African-American  Less than 25        Low    Male   \n",
       "4   8   41               F         Caucasian       25 - 45     Medium    Male   \n",
       "6  10   39               M         Caucasian       25 - 45        Low  Female   \n",
       "7  14   27               F         Caucasian       25 - 45        Low    Male   \n",
       "\n",
       "   priors_count  days_b_screening_arrest  decile_score  is_recid  \\\n",
       "1             0                     -1.0             3         1   \n",
       "2             4                     -1.0             4         1   \n",
       "4            14                     -1.0             6         1   \n",
       "6             0                     -1.0             1         0   \n",
       "7             0                     -1.0             4         0   \n",
       "\n",
       "   two_year_recid            c_jail_in           c_jail_out  length_of_stay  \\\n",
       "1               1  2013-01-26 03:45:27  2013-02-05 05:36:53              10   \n",
       "2               1  2013-04-13 04:58:34  2013-04-14 07:02:04               1   \n",
       "4               1  2014-02-18 05:08:24  2014-02-24 12:18:30               6   \n",
       "6               0  2014-03-15 05:35:34  2014-03-18 04:28:46               2   \n",
       "7               0  2013-11-25 06:31:06  2013-11-26 08:26:57               1   \n",
       "\n",
       "   score_text_quant  norm_score  \n",
       "1                 0    0.222222  \n",
       "2                 0    0.333333  \n",
       "4                 1    0.555556  \n",
       "6                 0    0.000000  \n",
       "7                 0    0.333333  "
      ]
     },
     "execution_count": 46,
     "metadata": {},
     "output_type": "execute_result"
    }
   ],
   "source": [
    "df.head()"
   ]
  },
  {
   "cell_type": "markdown",
   "metadata": {},
   "source": [
    "Since we want to look at race, we first look at the counts for each"
   ]
  },
  {
   "cell_type": "code",
   "execution_count": 6,
   "metadata": {},
   "outputs": [
    {
     "data": {
      "text/plain": [
       "African-American    3175\n",
       "Caucasian           2103\n",
       "Hispanic             509\n",
       "Other                343\n",
       "Asian                 31\n",
       "Native American       11\n",
       "Name: race, dtype: int64"
      ]
     },
     "execution_count": 6,
     "metadata": {},
     "output_type": "execute_result"
    }
   ],
   "source": [
    "df['race'].value_counts()"
   ]
  },
  {
   "cell_type": "code",
   "execution_count": 47,
   "metadata": {},
   "outputs": [
    {
     "name": "stdout",
     "output_type": "stream",
     "text": [
      "Writing code/filter\n"
     ]
    }
   ],
   "source": [
    "%%writefile code/filter\n",
    "df = df.loc[df['race'].isin(['African-American','Caucasian'])]"
   ]
  },
  {
   "cell_type": "markdown",
   "metadata": {},
   "source": [
    "We can look at the scores"
   ]
  },
  {
   "cell_type": "code",
   "execution_count": 49,
   "metadata": {},
   "outputs": [
    {
     "name": "stdout",
     "output_type": "stream",
     "text": [
      "Writing code/quant.py\n"
     ]
    }
   ],
   "source": [
    "%%writefile code/quant.py\n",
    "score_quantization = {'Low':0, 'Medium':1, 'High':1}\n",
    "df['score_text_quant'] =[ score_quantization[score] for score in df['score_text']]"
   ]
  },
  {
   "cell_type": "code",
   "execution_count": 50,
   "metadata": {},
   "outputs": [
    {
     "name": "stdout",
     "output_type": "stream",
     "text": [
      "Writing code/recidcorr\n"
     ]
    }
   ],
   "source": [
    "%%writefile code/recidcorr\n",
    "# Correlation between COMPAS score and 2-year recidivism\n",
    "\n",
    "# measure with high-low score\n",
    "print(df[['two_year_recid','score_text_quant']].corr())\n",
    "\n",
    "# measure with decile_score\n",
    "print(df[['two_year_recid','decile_score']].corr())"
   ]
  },
  {
   "cell_type": "markdown",
   "metadata": {},
   "source": [
    "The correlation is not that high. Let's measure the disparate impact of the quantized COMPAS score ($\\leq4$ is low, everything else is high) according to the EEOC rule that the values with \"high\" for each protected group should be within 80% of each other. Of course, the interpertation here is not the same, but it's a good starting point.\n",
    "\n",
    "reference: https://en.wikipedia.org/wiki/Disparate_impact#The_80.25_rule"
   ]
  },
  {
   "cell_type": "code",
   "execution_count": 51,
   "metadata": {},
   "outputs": [
    {
     "name": "stdout",
     "output_type": "stream",
     "text": [
      "Writing code/scoremeans.py\n"
     ]
    }
   ],
   "source": [
    "%%writefile code/scoremeans.py\n",
    "# The correlation is not that high. Let's measure the disparate impact according to the EEOC rule\n",
    "means_scores = df.groupby(['score_text_quant','race']).size().unstack()\n",
    "means_scores = means_scores/means_scores.sum()\n",
    "print(means_scores)\n",
    "# compute disparte impact\n",
    "AA_with_high_score_scores = means_scores.loc[1,'African-American']\n",
    "C_with_high_score_scores = means_scores.loc[1,'Caucasian']"
   ]
  },
  {
   "cell_type": "code",
   "execution_count": 52,
   "metadata": {},
   "outputs": [
    {
     "name": "stdout",
     "output_type": "stream",
     "text": [
      "Writing code/diff.py\n"
     ]
    }
   ],
   "source": [
    "%%writefile code/diff.py\n",
    "percentage_diff_scores = 100*(__/__ -1)\n",
    "print('Percentage difference: %f%%' %percentage_diff_scores)"
   ]
  },
  {
   "cell_type": "code",
   "execution_count": 53,
   "metadata": {},
   "outputs": [
    {
     "name": "stdout",
     "output_type": "stream",
     "text": [
      "Writing code/recidmeans.py\n"
     ]
    }
   ],
   "source": [
    "%%writefile code/recidmeans.py\n",
    "means_recid = df.groupby(['two_year_recid','race']).size().unstack()\n",
    "means_recid = means_recid/means_recid.sum()\n",
    "print(means_recid)\n",
    "# compute disparte impact\n",
    "AA_with_high_score_recid = means_recid.loc[1,'African-American']\n",
    "C_with_high_score_recid = means_recid.loc[1,'Caucasian']\n",
    "percentage_diff_recid = 100*(AA_with_high_score_recid/C_with_high_score_recid -1)\n",
    "print(percentage_diff_recid)\n"
   ]
  },
  {
   "cell_type": "markdown",
   "metadata": {},
   "source": [
    "There is a difference in recidivism, but not as high as assigned by the COMPAS scores.\n",
    "\n",
    "Now let's measure the difference in scores when we consider both the COMPAS output at true recidivism.\n",
    "\n",
    "We will consider a few different metrics. Further explaination can be found in North Point's response to the ProPublica article, and also in Alexandra Chouldechova’s paper (listed above). The link for it is https://assets.documentcloud.org/documents/2998391/ProPublica-Commentary-Final-070616.pdf . The discussion on error rates and calibration also appear in both. "
   ]
  },
  {
   "cell_type": "code",
   "execution_count": 54,
   "metadata": {},
   "outputs": [
    {
     "name": "stdout",
     "output_type": "stream",
     "text": [
      "Writing code/normalize.py\n"
     ]
    }
   ],
   "source": [
    "%%writefile code/normalize.py\n",
    "# normalize decile score\n",
    "max_score = df['decile_score'].max()\n",
    "min_score = df['decile_score'].min()\n",
    "df['norm_score'] = (df['decile_score']-min_score)/(max_score-min_score)\n",
    "\n",
    "\n",
    "plt.figure(figsize=[10,10])\n",
    "#plot ROC curve for African-Americans\n",
    "y = df.loc[df['race']=='African-American',['two_year_recid','norm_score']].values\n",
    "fpr1,tpr1,thresh1 = roc_curve(y_true = y[:,0],y_score=y[:,1])\n",
    "plt.plot(fpr1,tpr1)\n",
    "\n",
    "#plot ROC curve for Caucasian\n",
    "y = df.loc[df['race']=='Caucasian',['two_year_recid','norm_score']].values\n",
    "fpr2,tpr2,thresh2 = roc_curve(y_true = y[:,0],y_score=y[:,1])\n",
    "plt.plot(fpr2,tpr2)\n",
    "l = np.linspace(0,1,10)\n",
    "plt.plot(l,l,'k--')\n",
    "plt.xlabel('False Positive Rate')\n",
    "plt.ylabel('True Postitive Rate')\n",
    "plt.title('ROC')\n",
    "plt.legend(['African-American','Caucasian'])"
   ]
  },
  {
   "cell_type": "markdown",
   "metadata": {},
   "source": [
    "For each group, the point in the ROC curve corresponds to a $$(\\mbox{false postive rate, true positive rate})$$ pair for a given threshold. In order to caputre the difference in error rates, we map the points to $$\\left(\\frac{\\mbox{false postive rate Afr.-American}}{\\mbox{false postive rate Cauc.}},s \\right)$$\n",
    "and similarly for *false negative* rates for different thersholds s."
   ]
  },
  {
   "cell_type": "code",
   "execution_count": 55,
   "metadata": {},
   "outputs": [
    {
     "name": "stdout",
     "output_type": "stream",
     "text": [
      "Writing code/fpr.py\n"
     ]
    }
   ],
   "source": [
    "%%writefile code/fpr.py\n",
    "fpr_ratio = fpr1[1:]/fpr2[1:]\n",
    "tpr_ratio = (tpr1[1:])/(tpr2[1:])\n",
    "plt.figure(figsize=[10,10])\n",
    "plt.plot(thresh1[1:],fpr_ratio)\n",
    "plt.plot(thresh1[1:],tpr_ratio)\n",
    "plt.xlabel('Normalized score threshold')\n",
    "plt.ylabel('Ratio')\n",
    "\n",
    "plt.legend(['False positive rate','True positive rate'])\n",
    "plt.title('Ratio between African-American and Caucasian error rates\\n for different score thresholds')"
   ]
  },
  {
   "cell_type": "markdown",
   "metadata": {},
   "source": [
    "The difference is once again stark. This graph is particlarly concerning due to the significantly higher false positive rates for African Americans across all thresholds."
   ]
  },
  {
   "cell_type": "markdown",
   "metadata": {},
   "source": [
    "# What other diffrences are there?"
   ]
  },
  {
   "cell_type": "code",
   "execution_count": 56,
   "metadata": {},
   "outputs": [
    {
     "name": "stdout",
     "output_type": "stream",
     "text": [
      "Writing code/decilesdist.py\n"
     ]
    }
   ],
   "source": [
    "%%writefile code/decilesdist.py\n",
    "table = df.groupby(['race','decile_score']).size().reset_index().pivot(index='decile_score',columns='race',values=0)\n",
    "\n",
    "# percentage of defendants in each score category\n",
    "100*table/table.sum()"
   ]
  },
  {
   "cell_type": "code",
   "execution_count": 57,
   "metadata": {},
   "outputs": [
    {
     "name": "stdout",
     "output_type": "stream",
     "text": [
      "Writing code/decileplot.py\n"
     ]
    }
   ],
   "source": [
    "%%writefile code/decileplot.py\n",
    "# now in visual form\n",
    "x = df.loc[df['race']=='African-American','decile_score'].values\n",
    "y = df.loc[df['race']=='Caucasian','decile_score'].values\n",
    "plt.figure(figsize=[10,8])\n",
    "plt.hist([x,y],normed=True)\n",
    "plt.legend(['African-American','Caucasian'])\n",
    "plt.title('COMPAS score distribution')\n",
    "plt.xlabel('Score')\n",
    "plt.ylabel('Fraction of population')"
   ]
  },
  {
   "cell_type": "code",
   "execution_count": 58,
   "metadata": {},
   "outputs": [
    {
     "name": "stdout",
     "output_type": "stream",
     "text": [
      "Writing code/priors_dist.py\n"
     ]
    }
   ],
   "source": [
    "%%writefile code/priors_dist.py\n",
    "df_2priors = df.loc[df['priors_count']>=2]\n",
    "x = df_2priors.loc[df_2priors['race']=='African-American','decile_score'].values\n",
    "y = df_2priors.loc[df_2priors['race']=='Caucasian','decile_score'].values\n",
    "plt.figure(figsize=[12,7])\n",
    "plt.hist([x,y],normed=True)\n",
    "plt.legend(['African-American','Caucasian'])\n",
    "plt.title('COMPAS score distribution for defendants with more than 2 priors')\n",
    "plt.xlabel('Score')\n",
    "plt.ylabel('Fraction of population')"
   ]
  },
  {
   "cell_type": "code",
   "execution_count": null,
   "metadata": {},
   "outputs": [],
   "source": []
  }
 ],
 "metadata": {
  "kernelspec": {
   "display_name": "Python 3",
   "language": "python",
   "name": "python3"
  },
  "language_info": {
   "codemirror_mode": {
    "name": "ipython",
    "version": 3
   },
   "file_extension": ".py",
   "mimetype": "text/x-python",
   "name": "python",
   "nbconvert_exporter": "python",
   "pygments_lexer": "ipython3",
   "version": "3.6.4"
  }
 },
 "nbformat": 4,
 "nbformat_minor": 2
}
